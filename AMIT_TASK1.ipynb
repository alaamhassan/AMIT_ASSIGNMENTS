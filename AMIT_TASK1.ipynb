{
 "cells": [
  {
   "cell_type": "markdown",
   "id": "e20929cf",
   "metadata": {},
   "source": [
    "# File handling\n"
   ]
  },
  {
   "cell_type": "code",
   "execution_count": null,
   "id": "52c7b46a",
   "metadata": {},
   "outputs": [],
   "source": [
    "#user_info list intialize  \n",
    "user_info=['first name: ','last name: ','gender: ','id: ']\n",
    "\n",
    "#taking inputs from user\n",
    "for i in range(len(user_info)):\n",
    "    user_input=input(\"please,enter your \"+str(user_info[i])) \n",
    "    user_info[i] =user_info[i]+str(user_input)\n",
    "    \n",
    "#writing input info into a file\n",
    "with open('AMIT_TASK1.txt','w') as f:\n",
    "    print(\"---------\",user_info[0][12:],user_info[1][11:],\"-------------\",file=f)\n",
    "    for info in user_info:\n",
    "        print(info,file=f)\n",
    "        \n",
    "#read from file\n",
    "print('-------------------------------FILE CONTENT----------------------------')\n",
    "f =open('AMIT_TASK1.txt','r')\n",
    "print(f.read())\n",
    "    "
   ]
  },
  {
   "cell_type": "code",
   "execution_count": null,
   "id": "9f791ce8",
   "metadata": {},
   "outputs": [],
   "source": []
  },
  {
   "cell_type": "code",
   "execution_count": null,
   "id": "de79cb45",
   "metadata": {},
   "outputs": [],
   "source": []
  }
 ],
 "metadata": {
  "kernelspec": {
   "display_name": "Python 3 (ipykernel)",
   "language": "python",
   "name": "python3"
  },
  "language_info": {
   "codemirror_mode": {
    "name": "ipython",
    "version": 3
   },
   "file_extension": ".py",
   "mimetype": "text/x-python",
   "name": "python",
   "nbconvert_exporter": "python",
   "pygments_lexer": "ipython3",
   "version": "3.9.7"
  }
 },
 "nbformat": 4,
 "nbformat_minor": 5
}
